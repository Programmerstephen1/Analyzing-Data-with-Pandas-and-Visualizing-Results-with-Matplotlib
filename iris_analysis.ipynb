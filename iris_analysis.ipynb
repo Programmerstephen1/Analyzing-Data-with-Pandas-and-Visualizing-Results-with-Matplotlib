{
 "cells": [
  {
   "cell_type": "markdown",
   "id": "b5de4295",
   "metadata": {},
   "source": [
    "# 📘 Analyzing Data with Pandas and Visualizing Results with Matplotlib"
   ]
  },
  {
   "cell_type": "markdown",
   "id": "57d26b09",
   "metadata": {},
   "source": [
    "## ✅ Task 1: Load and Explore the Dataset"
   ]
  },
  {
   "cell_type": "code",
   "execution_count": null,
   "id": "4659a285",
   "metadata": {},
   "outputs": [],
   "source": [
    "# Import libraries\n",
    "import pandas as pd\n",
    "import matplotlib.pyplot as plt\n",
    "import seaborn as sns\n",
    "from sklearn.datasets import load_iris\n",
    "\n",
    "# Load Iris dataset\n",
    "try:\n",
    "    iris = load_iris(as_frame=True)\n",
    "    df = iris.frame\n",
    "    print(\"Dataset loaded successfully.\")\n",
    "except Exception as e:\n",
    "    print(f\"Error loading dataset: {e}\")\n",
    "\n",
    "# Display first few rows\n",
    "df.head()"
   ]
  },
  {
   "cell_type": "code",
   "execution_count": null,
   "id": "997b8513",
   "metadata": {},
   "outputs": [],
   "source": [
    "# Explore dataset\n",
    "df.info()\n",
    "\n",
    "# Check for missing values\n",
    "print(df.isnull().sum())\n",
    "\n",
    "# No missing values in this dataset, so no cleaning required.\n"
   ]
  },
  {
   "cell_type": "markdown",
   "id": "a354a86d",
   "metadata": {},
   "source": [
    "## ✅ Task 2: Basic Data Analysis"
   ]
  },
  {
   "cell_type": "code",
   "execution_count": null,
   "id": "e77ac7e3",
   "metadata": {},
   "outputs": [],
   "source": [
    "# Basic statistics\n",
    "df.describe()"
   ]
  },
  {
   "cell_type": "code",
   "execution_count": null,
   "id": "7c67e4ee",
   "metadata": {},
   "outputs": [],
   "source": [
    "# Group by species and get mean of numerical columns\n",
    "grouped = df.groupby('target').mean()\n",
    "grouped"
   ]
  },
  {
   "cell_type": "code",
   "execution_count": null,
   "id": "f448d8c5",
   "metadata": {},
   "outputs": [],
   "source": [
    "# Map species names\n",
    "df['species'] = df['target'].map(lambda x: iris.target_names[x])\n",
    "df[['species', 'sepal length (cm)', 'sepal width (cm)']].groupby('species').mean()"
   ]
  },
  {
   "cell_type": "markdown",
   "id": "a8403f0d",
   "metadata": {},
   "source": [
    "**📝 Observations**:\n",
    "- Iris-virginica has the largest average petal and sepal lengths.\n",
    "- Sepal width tends to be higher for Iris-setosa."
   ]
  },
  {
   "cell_type": "markdown",
   "id": "6a115d24",
   "metadata": {},
   "source": [
    "## ✅ Task 3: Data Visualization"
   ]
  },
  {
   "cell_type": "code",
   "execution_count": null,
   "id": "cf53fe3a",
   "metadata": {},
   "outputs": [],
   "source": [
    "# Line chart: Average sepal length over index\n",
    "plt.figure(figsize=(10, 5))\n",
    "plt.plot(df['sepal length (cm)'], label='Sepal Length')\n",
    "plt.title(\"Line Chart - Sepal Length Trend\")\n",
    "plt.xlabel(\"Index\")\n",
    "plt.ylabel(\"Sepal Length (cm)\")\n",
    "plt.legend()\n",
    "plt.grid()\n",
    "plt.show()"
   ]
  },
  {
   "cell_type": "code",
   "execution_count": null,
   "id": "5abce05a",
   "metadata": {},
   "outputs": [],
   "source": [
    "# Bar chart: Mean petal length per species\n",
    "plt.figure(figsize=(8, 5))\n",
    "sns.barplot(x='species', y='petal length (cm)', data=df, estimator='mean')\n",
    "plt.title(\"Bar Chart - Average Petal Length per Species\")\n",
    "plt.xlabel(\"Species\")\n",
    "plt.ylabel(\"Average Petal Length (cm)\")\n",
    "plt.show()"
   ]
  },
  {
   "cell_type": "code",
   "execution_count": null,
   "id": "67d3f8be",
   "metadata": {},
   "outputs": [],
   "source": [
    "# Histogram: Distribution of sepal width\n",
    "plt.figure(figsize=(8, 5))\n",
    "plt.hist(df['sepal width (cm)'], bins=15, color='skyblue', edgecolor='black')\n",
    "plt.title(\"Histogram - Sepal Width Distribution\")\n",
    "plt.xlabel(\"Sepal Width (cm)\")\n",
    "plt.ylabel(\"Frequency\")\n",
    "plt.show()"
   ]
  },
  {
   "cell_type": "code",
   "execution_count": null,
   "id": "6b94e2dd",
   "metadata": {},
   "outputs": [],
   "source": [
    "# Scatter plot: Sepal length vs Petal length\n",
    "plt.figure(figsize=(8, 5))\n",
    "sns.scatterplot(x='sepal length (cm)', y='petal length (cm)', hue='species', data=df)\n",
    "plt.title(\"Scatter Plot - Sepal vs Petal Length\")\n",
    "plt.xlabel(\"Sepal Length (cm)\")\n",
    "plt.ylabel(\"Petal Length (cm)\")\n",
    "plt.legend()\n",
    "plt.show()"
   ]
  },
  {
   "cell_type": "markdown",
   "id": "e2c2f90e",
   "metadata": {},
   "source": [
    "## ✅ Conclusion / Insights\n",
    "\n",
    "- Iris-setosa stands out with smaller petal lengths and higher sepal width.\n",
    "- Clear linear relationship between sepal length and petal length for some species.\n",
    "- No missing data, making it ideal for classification or clustering models.\n"
   ]
  }
 ],
 "metadata": {},
 "nbformat": 4,
 "nbformat_minor": 5
}
